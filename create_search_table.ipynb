{
 "cells": [
  {
   "cell_type": "code",
   "execution_count": 1,
   "metadata": {},
   "outputs": [],
   "source": [
    "import pandas as pd\n",
    "import os"
   ]
  },
  {
   "cell_type": "code",
   "execution_count": 2,
   "metadata": {},
   "outputs": [],
   "source": [
    "# inputs\n",
    "youtube_handle = 'CNBCtelevision'\n",
    "main_dir = youtube_handle\n",
    "ner_mapped = \"mapped_gemma\"\n",
    "parent_dir = os.path.dirname(os.getcwd())"
   ]
  },
  {
   "cell_type": "code",
   "execution_count": 3,
   "metadata": {},
   "outputs": [],
   "source": [
    "df_1 = pd.DataFrame()\n",
    "for filename in os.listdir(os.path.join(main_dir, ner_mapped)):\n",
    "\n",
    "    df_new = pd.read_csv(os.path.join(main_dir, ner_mapped, filename))\n",
    "    df_new = df_new.loc[pd.notnull(df_new['Company_name_mapped'])]\n",
    "    df_1  = pd.concat([df_1, df_new], axis=0)\n",
    "\n",
    "df_1 ['u3_num'] = df_1 ['u3_num'].astype(int).astype(str)"
   ]
  },
  {
   "cell_type": "code",
   "execution_count": 4,
   "metadata": {},
   "outputs": [
    {
     "name": "stdout",
     "output_type": "stream",
     "text": [
      "Total videos: 104713/113630 (92.15%) with transcripts (CNBCtelevision) .\n"
     ]
    },
    {
     "data": {
      "text/plain": [
       "date_published\n",
       "2018    10461\n",
       "2019    18032\n",
       "2020    18211\n",
       "2021    19115\n",
       "2022    18115\n",
       "2023    16649\n",
       "2024     4130\n",
       "Name: vid_id, dtype: int64"
      ]
     },
     "execution_count": 4,
     "metadata": {},
     "output_type": "execute_result"
    }
   ],
   "source": [
    "df_4 = pd.read_csv(os.path.join(parent_dir, \"channel_scraper\",  f'{main_dir}.csv'))\n",
    "df_3 = pd.read_csv(os.path.join(parent_dir, \"channel_scraper\",  f'{main_dir}_DB.csv'))\n",
    "df_3['date_published'] = pd.to_datetime(df_3['date_published'])\n",
    "print(f\"Total videos: {len(df_3)}/{len(df_4)} ({round(len(df_3)/len(df_4)*100, 2)}%) with transcripts ({main_dir}) .\")\n",
    "df_3.groupby(df_3.date_published.dt.year)['vid_id'].count()"
   ]
  },
  {
   "cell_type": "code",
   "execution_count": 5,
   "metadata": {},
   "outputs": [],
   "source": [
    "df_merged = pd.merge(left=df_1, right=df_3[['vid_id', 'title', 'date_published']], on='vid_id')\n",
    "df_merged['date_published'] = df_merged['date_published'].dt.strftime('%Y-%m-%d')\n",
    "df_merged = df_merged.drop(['company_found_gemma'], axis=1)"
   ]
  },
  {
   "cell_type": "code",
   "execution_count": 6,
   "metadata": {},
   "outputs": [],
   "source": [
    "df_merged['youtube_channel_handle'] = youtube_handle\n",
    "df_merged = df_merged.drop_duplicates(subset=['vid_id', 'u3_num'])"
   ]
  },
  {
   "cell_type": "code",
   "execution_count": 9,
   "metadata": {},
   "outputs": [],
   "source": [
    "df_merged.to_csv(f\"search_results_{youtube_handle}.csv\", index=False)"
   ]
  },
  {
   "cell_type": "code",
   "execution_count": 8,
   "metadata": {},
   "outputs": [
    {
     "data": {
      "text/html": [
       "<div>\n",
       "<style scoped>\n",
       "    .dataframe tbody tr th:only-of-type {\n",
       "        vertical-align: middle;\n",
       "    }\n",
       "\n",
       "    .dataframe tbody tr th {\n",
       "        vertical-align: top;\n",
       "    }\n",
       "\n",
       "    .dataframe thead th {\n",
       "        text-align: right;\n",
       "    }\n",
       "</style>\n",
       "<table border=\"1\" class=\"dataframe\">\n",
       "  <thead>\n",
       "    <tr style=\"text-align: right;\">\n",
       "      <th></th>\n",
       "      <th>vid_id</th>\n",
       "      <th>company_found_gemma</th>\n",
       "      <th>Company_name_mapped</th>\n",
       "      <th>u3_num</th>\n",
       "    </tr>\n",
       "  </thead>\n",
       "  <tbody>\n",
       "    <tr>\n",
       "      <th>35</th>\n",
       "      <td>qh5zPQF1UZA</td>\n",
       "      <td>New York Community Bank - Banking</td>\n",
       "      <td>New York Community Bancorp Inc</td>\n",
       "      <td>34793</td>\n",
       "    </tr>\n",
       "    <tr>\n",
       "      <th>0</th>\n",
       "      <td>CrkgudKosV8</td>\n",
       "      <td>New York Community Bank Corp. (Commercial Real...</td>\n",
       "      <td>New York Community Bancorp Inc</td>\n",
       "      <td>34793</td>\n",
       "    </tr>\n",
       "    <tr>\n",
       "      <th>10</th>\n",
       "      <td>NV706m6p3Zk</td>\n",
       "      <td>New York Community Bank (NYCB) - Community Bank</td>\n",
       "      <td>New York Community Bancorp Inc</td>\n",
       "      <td>34793</td>\n",
       "    </tr>\n",
       "    <tr>\n",
       "      <th>7</th>\n",
       "      <td>TsPcptwElQc</td>\n",
       "      <td>New York Community Bankorp - Banking</td>\n",
       "      <td>New York Community Bancorp Inc</td>\n",
       "      <td>34793</td>\n",
       "    </tr>\n",
       "    <tr>\n",
       "      <th>18</th>\n",
       "      <td>3pSfXdw1WrM</td>\n",
       "      <td>New York Community Bancorp (Community Bank) - ...</td>\n",
       "      <td>New York Community Bancorp Inc</td>\n",
       "      <td>34793</td>\n",
       "    </tr>\n",
       "    <tr>\n",
       "      <th>...</th>\n",
       "      <td>...</td>\n",
       "      <td>...</td>\n",
       "      <td>...</td>\n",
       "      <td>...</td>\n",
       "    </tr>\n",
       "    <tr>\n",
       "      <th>43</th>\n",
       "      <td>AIrVqxWYI9M</td>\n",
       "      <td>NYCB New York Community Bank (Community bank)</td>\n",
       "      <td>New York Community Bancorp Inc</td>\n",
       "      <td>34793</td>\n",
       "    </tr>\n",
       "    <tr>\n",
       "      <th>20</th>\n",
       "      <td>XaV15IGO0vI</td>\n",
       "      <td>New York Community Bank (Financial Services)</td>\n",
       "      <td>New York Community Bancorp Inc</td>\n",
       "      <td>34793</td>\n",
       "    </tr>\n",
       "    <tr>\n",
       "      <th>12</th>\n",
       "      <td>c_86OVKnD3c</td>\n",
       "      <td>New York Community Bank - Banking</td>\n",
       "      <td>New York Community Bancorp Inc</td>\n",
       "      <td>34793</td>\n",
       "    </tr>\n",
       "    <tr>\n",
       "      <th>1</th>\n",
       "      <td>OR_n-S8hzHs</td>\n",
       "      <td>New York Community Bank (Banking)</td>\n",
       "      <td>New York Community Bancorp Inc</td>\n",
       "      <td>34793</td>\n",
       "    </tr>\n",
       "    <tr>\n",
       "      <th>7</th>\n",
       "      <td>TTRFNTUCMBc</td>\n",
       "      <td>New York Community Bank (Financial Services)</td>\n",
       "      <td>New York Community Bancorp Inc</td>\n",
       "      <td>34793</td>\n",
       "    </tr>\n",
       "  </tbody>\n",
       "</table>\n",
       "<p>72 rows × 4 columns</p>\n",
       "</div>"
      ],
      "text/plain": [
       "         vid_id                                company_found_gemma  \\\n",
       "35  qh5zPQF1UZA                  New York Community Bank - Banking   \n",
       "0   CrkgudKosV8  New York Community Bank Corp. (Commercial Real...   \n",
       "10  NV706m6p3Zk    New York Community Bank (NYCB) - Community Bank   \n",
       "7   TsPcptwElQc               New York Community Bankorp - Banking   \n",
       "18  3pSfXdw1WrM  New York Community Bancorp (Community Bank) - ...   \n",
       "..          ...                                                ...   \n",
       "43  AIrVqxWYI9M      NYCB New York Community Bank (Community bank)   \n",
       "20  XaV15IGO0vI       New York Community Bank (Financial Services)   \n",
       "12  c_86OVKnD3c                  New York Community Bank - Banking   \n",
       "1   OR_n-S8hzHs                  New York Community Bank (Banking)   \n",
       "7   TTRFNTUCMBc       New York Community Bank (Financial Services)   \n",
       "\n",
       "               Company_name_mapped u3_num  \n",
       "35  New York Community Bancorp Inc  34793  \n",
       "0   New York Community Bancorp Inc  34793  \n",
       "10  New York Community Bancorp Inc  34793  \n",
       "7   New York Community Bancorp Inc  34793  \n",
       "18  New York Community Bancorp Inc  34793  \n",
       "..                             ...    ...  \n",
       "43  New York Community Bancorp Inc  34793  \n",
       "20  New York Community Bancorp Inc  34793  \n",
       "12  New York Community Bancorp Inc  34793  \n",
       "1   New York Community Bancorp Inc  34793  \n",
       "7   New York Community Bancorp Inc  34793  \n",
       "\n",
       "[72 rows x 4 columns]"
      ]
     },
     "execution_count": 8,
     "metadata": {},
     "output_type": "execute_result"
    }
   ],
   "source": [
    "# how many belonging to the 5 focal firms?\n",
    "\n",
    "u3_ids = ['31689','27053', '27465', '34793', '204165']\n",
    "#u3_ids = ['28390']\n",
    "u3_ids = ['34793']\n",
    "#names = ['SVB', 'AA', 'Ford', 'NYCB', 'Wework']\n",
    "\n",
    "df_1.loc[df_1['u3_num'].isin(u3_ids)]"
   ]
  },
  {
   "cell_type": "markdown",
   "metadata": {},
   "source": []
  }
 ],
 "metadata": {
  "kernelspec": {
   "display_name": "dict_approach",
   "language": "python",
   "name": "python3"
  },
  "language_info": {
   "codemirror_mode": {
    "name": "ipython",
    "version": 3
   },
   "file_extension": ".py",
   "mimetype": "text/x-python",
   "name": "python",
   "nbconvert_exporter": "python",
   "pygments_lexer": "ipython3",
   "version": "3.8.0"
  }
 },
 "nbformat": 4,
 "nbformat_minor": 2
}
