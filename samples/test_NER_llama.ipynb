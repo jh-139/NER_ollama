{
 "cells": [
  {
   "cell_type": "code",
   "execution_count": 1,
   "metadata": {},
   "outputs": [],
   "source": [
    "import ollama\n",
    "import re\n",
    "import os"
   ]
  },
  {
   "cell_type": "code",
   "execution_count": 2,
   "metadata": {},
   "outputs": [],
   "source": [
    "def make_prompt(transcript_text):\n",
    "    ln_1 = f'\\nThe following text is a transcript from a youtube video: {transcript_text}'\n",
    "    ln_3 = \"\\n\\n\\n List out all company names mentioned in the transcript.\"\n",
    "    ln_4 = \"\\n Put the industry of the company identified beside the company name.\"\n",
    "    ln_5 = \"\\n The transcript enclosed might contain questions, do not answer those questions.\"\n",
    "    ln_6 = \"\\n Maximise the list!!!\"\n",
    "    content = ln_1 + ln_3 + ln_4 + ln_5 + ln_6\n",
    "    return content\n",
    "\n",
    "def make_messages_llm(prompt, transcript_text):\n",
    "    messages = [\n",
    "        {'role': 'system', 'content': 'You are a state of the art Named Entity Recognition model.'},\n",
    "        {'role': 'user', 'content': f\"\\n\\n{prompt}\"},\n",
    "    ]\n",
    "    return messages\n",
    "\n",
    "def send_request(messages):\n",
    "    options = {\n",
    "        #'temperature': 1.5, # very creative\n",
    "        #'temperature': 0 # very conservative (good for coding and correct syntax)\n",
    "        'temperature': 1.5\n",
    "    }\n",
    "    response = ollama.chat(model=model, messages=messages, options=options)\n",
    "    answer = response['message']['content']\n",
    "    return answer\n",
    " \n",
    "def clean_transcript_text(text):\n",
    "    text =  text.replace(\"\\\\n\", ' ')\n",
    "    text = re.sub('\\[.+?\\]', ' ', text)\n",
    "    text = re.sub('\\(.+?\\)', ' ', text)\n",
    "    text = text.replace(\"\\n\",' ')\n",
    "    return text\n",
    "\n",
    "def process_response_1(text):\n",
    "    text = text.replace(\"**\", \"\")\n",
    "    texts = text.split(\"\\n\")\n",
    "    texts = [text for text in texts if not ' none' in text.lower()]\n",
    "    texts = [text for text in texts if not '(unknown' in text.lower()]\n",
    "    lns_with_company_name  = [text for text in texts if re.search('(^[\\d]+\\.)|(^-{1}.+)|(^\\*)', text.strip())]\n",
    "    lns_with_company_name = [re.sub(\"^[\\d]+\\.\", '', text.strip()) for text in lns_with_company_name]\n",
    "    lns_with_company_name = [re.sub(\"^\\*\", '', text.strip()) for text in lns_with_company_name]\n",
    "    lns_with_company_name = [re.sub(\"^-\", '', text.strip()) for text in lns_with_company_name]\n",
    "    lns_with_company_name = [text.strip() for text in lns_with_company_name]\n",
    "    return lns_with_company_name"
   ]
  },
  {
   "cell_type": "code",
   "execution_count": 3,
   "metadata": {},
   "outputs": [],
   "source": [
    "vid_id = \"oqn1ZD8QUm4\"\n",
    "transcript_dir = r\"E:\\youtube_data\\channel_scraper\\wsj\\transcripts\"\n",
    "\n",
    "with open(os.path.join(transcript_dir, f\"{vid_id}.txt\"), 'r') as f:\n",
    "    content = f.read()\n",
    "    transcript_text = clean_transcript_text(content)"
   ]
  },
  {
   "cell_type": "code",
   "execution_count": 4,
   "metadata": {},
   "outputs": [
    {
     "data": {
      "text/plain": [
       "\"The US government seized First Republic Bank on May 1st and struck a deal to sell the  bulk of its operations to JP Morgan regulators hope the move will head off  a chaotic collapse that could reignite the banking crisis. Ben Eisen covers banking and finance for the journal. He explains how first Republic became the second largest bank to fail in the US and what it  means for customers investors and the industry. First Republic had this business model that was just sort of been perfectly built for a certain  time period when interest rates were really low. Um The bank collected a lot of deposits that made a lot of mortgages but when rates suddenly shifted. Last year, the bank's business model started to look a little bit more precarious after  Silicon Valley Bank and signature failed. In March, everyone pretty much immediately started looking to first Republic as the next risky bank in the  system. Silicon Valley Bank and First Republic, they had similar enough client bases and similar enough risks and  problems that investors and customers and really anyone in this banking crisis  started to kind of lump them together. Some of the biggest banks collected $30 billion worth of their own money and they  deposited it at First Republic Bank, basically trying to make up for the deposits that customers had pulled. It was helpful for a day, but it didn't stop the panic coming into April  24th versus Republic was already in a pretty bad spot after the bank released its earnings  and, and really didn't impress people with, with what it showed you had this period of time where the stock was falling really rapidly. There was a sense that this bank was increasingly at risk of being seized  early in the morning of May 1st, an announcement came out that Jp Morgan would be buying First Republic Bank and this was a  deal that was orchestrated by the Federal deposit Insurance Corp when the F P IC conducts this process  to sale a bank that it's seizing, it's basically looking for the best bid. And in the deal, Jp Morgan will be taking on some $92 billion and deposits  from First Republic buying a lot of assets including the banks, loans and bonds. Shareholders will get wiped out. This is a deal that will effectively allow First Republic to live on as a part  of JP Morgan. Let me be very clear while depositors are being protected, shareholders are losing their investments and critically taxpayers are not the  ones that are on the hook. The resolution for First Republic appears to be at the end of this stage. Of the banking crisis that said the problems that kind of led to this  crisis haven't necessarily been resolved. Interest rates rose really quickly. The value of assets on the bank's balance sheets fell a lot. It doesn't appear that anything's imminent at this moment. But I think a lot of people would be hesitant to say this is over. \""
      ]
     },
     "execution_count": 4,
     "metadata": {},
     "output_type": "execute_result"
    }
   ],
   "source": [
    "transcript_text"
   ]
  },
  {
   "cell_type": "code",
   "execution_count": 5,
   "metadata": {},
   "outputs": [
    {
     "name": "stdout",
     "output_type": "stream",
     "text": [
      "- **First Republic Bank** (Banking)\n",
      "- **JP Morgan** (Investment banking)\n",
      "- **Silicon Valley Bank** (Banking)\n",
      "- **Signature Bank** (Banking)\n",
      "- **Federal Deposit Insurance Corp (FDIC)** (Financial regulator)\n"
     ]
    }
   ],
   "source": [
    "model = \"gemma\" # 'llama3' # qwen:7b #gemma\n",
    "messages = make_messages_llm(make_prompt(transcript_text), transcript_text)\n",
    "\n",
    "response = send_request(messages)\n",
    "print(response)"
   ]
  },
  {
   "cell_type": "code",
   "execution_count": 8,
   "metadata": {},
   "outputs": [
    {
     "name": "stdout",
     "output_type": "stream",
     "text": [
      "['First Republic Bank (Banking)', 'JP Morgan (Investment Banking)', 'Silicon Valley Bank (Banking)', 'Signature Bank (Banking)']\n"
     ]
    }
   ],
   "source": [
    "print(process_response_1(response))"
   ]
  }
 ],
 "metadata": {
  "kernelspec": {
   "display_name": "dict_approach",
   "language": "python",
   "name": "python3"
  },
  "language_info": {
   "codemirror_mode": {
    "name": "ipython",
    "version": 3
   },
   "file_extension": ".py",
   "mimetype": "text/x-python",
   "name": "python",
   "nbconvert_exporter": "python",
   "pygments_lexer": "ipython3",
   "version": "3.8.0"
  }
 },
 "nbformat": 4,
 "nbformat_minor": 2
}
